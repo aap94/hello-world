{
  "cells": [
    {
      "cell_type": "markdown",
      "metadata": {
        "id": "view-in-github",
        "colab_type": "text"
      },
      "source": [
        "<a href=\"https://colab.research.google.com/github/aap94/hello-world/blob/master/Project1_Code.ipynb\" target=\"_parent\"><img src=\"https://colab.research.google.com/assets/colab-badge.svg\" alt=\"Open In Colab\"/></a>"
      ]
    },
    {
      "cell_type": "markdown",
      "metadata": {
        "id": "FSxBOh-maM1F"
      },
      "source": [
        "## MEMS1029 Project #1: Design of High Speed Shaft\n",
        "\n",
        "Team 7: Sarah Fritzsche, Aarti Patel, Stephanie Manasterski, Nikolas Schunn\n",
        "\n",
        "Project Goal: Tasked with designing the high-speed shaft for the transmission of a small industrial mixing apparatus. The purpose of the transmission is to convert the high-speed power output from the electric motor to the low-speed input for the mixing paddles. "
      ]
    },
    {
      "cell_type": "code",
      "execution_count": null,
      "metadata": {
        "id": "TesZYWfiaEq8"
      },
      "outputs": [],
      "source": [
        "#always input these first few lines\n",
        "%matplotlib notebook \n",
        "import matplotlib.pyplot as plt \n",
        "import numpy as np \n",
        "import sympy as sym"
      ]
    },
    {
      "cell_type": "code",
      "execution_count": null,
      "metadata": {
        "id": "3-EF8_dthkS7"
      },
      "outputs": [],
      "source": [
        "#define variables for shaft\n",
        "Tin = 15 #torque input N*m\n",
        "do = 0.09 #length from coupling to bearing in meters (center to center)\n",
        "da = 0.065 #length from bearing1 to spur gear in meters (center to center)\n",
        "db = 0.065 #length from spur gear to bearing2 in meters (center to center)\n",
        "theta = 20*(np.pi/180) #pressure angle converted to radians\n",
        "d1 = 0.01905 #diameter of shaft from coupling to bearing in meters\n",
        "d2 = 0.03 #diameter of shaft from bearing to spur gear in meters\n",
        "d3 = 0.025 #diameter of shaft from spur gear to bearing in meters\n",
        "d4 = 0.01905 # diameter of shaft from second bearing towards paddles in meters\n",
        "r_gear = 0.0675 # pitch diameter of the gear"
      ]
    },
    {
      "cell_type": "markdown",
      "metadata": {
        "id": "C4SqqNBng3r1"
      },
      "source": [
        "## Shaft Physics\n",
        "**Initial Force Analysis**"
      ]
    },
    {
      "cell_type": "code",
      "execution_count": null,
      "metadata": {
        "colab": {
          "base_uri": "https://localhost:8080/"
        },
        "id": "5qZEuTTIg2g8",
        "outputId": "279af9df-4627-4b4d-db1c-32d2b5e6e845"
      },
      "outputs": [
        {
          "output_type": "stream",
          "name": "stdout",
          "text": [
            "The forces at each gear contact are 118.24 N in magnitude\n"
          ]
        }
      ],
      "source": [
        "# Gear force determined by torque \n",
        "F1 = Tin/(2*r_gear*np.cos(theta))\n",
        "print('The forces at each gear contact are {:.2f} N in magnitude'.format(F1))"
      ]
    },
    {
      "cell_type": "code",
      "execution_count": null,
      "metadata": {
        "colab": {
          "base_uri": "https://localhost:8080/"
        },
        "id": "8jAkWNuhmpFn",
        "outputId": "7399e853-a2d1-4907-da22-5fa7fc6decef"
      },
      "outputs": [
        {
          "output_type": "stream",
          "name": "stdout",
          "text": [
            "Fy = 151.55 N\n",
            "Fz = 70.67 N\n",
            "F_totgear = 167.22 N\n",
            "The Reaction force Rby = 75.78 N\n",
            "The Reaction force Ray = 75.78 N\n",
            "The Reaction force Rbz = 35.33 N\n",
            "The Reaction force Raz = 35.33 N\n"
          ]
        }
      ],
      "source": [
        "#F components of spur gear\n",
        "Fy = F1*(np.sin(theta)+np.cos(theta))\n",
        "Fz = F1* (np.cos(theta) - np.sin(theta))\n",
        "print ('Fy = {:.2f} N'.format(Fy))\n",
        "print ('Fz = {:.2f} N'.format(Fz))\n",
        "\n",
        "print ('F_totgear = {:.2f} N'.format(np.sqrt(Fz**2+Fy**2)))\n",
        "\n",
        "#sum of moments in Y about A\n",
        "Rby = (Fy*da)/(da+db)\n",
        "print ('The Reaction force Rby = {:.2f} N'.format(Rby)) \n",
        "\n",
        "#sum of forces in Y\n",
        "Ray = Fy-Rby\n",
        "print ('The Reaction force Ray = {:.2f} N'.format(Ray))\n",
        "\n",
        "#sum of moments in Z about A\n",
        "Rbz = (Fz*da)/(da+db)\n",
        "print ('The Reaction force Rbz = {:.2f} N'.format(Rbz))\n",
        "\n",
        "#sum of forces in Z\n",
        "Raz = Fz - Rbz\n",
        "print ('The Reaction force Raz = {:.2f} N'.format(Raz))"
      ]
    },
    {
      "cell_type": "code",
      "execution_count": null,
      "metadata": {
        "colab": {
          "base_uri": "https://localhost:8080/"
        },
        "id": "O_WSjp7kt4fm",
        "outputId": "95943a04-46f9-45d5-8c7f-218392e8361f"
      },
      "outputs": [
        {
          "output_type": "stream",
          "name": "stdout",
          "text": [
            "The Moment at the Gear about Z is MGz = 4.93 Nm\n",
            "The Moment at the Gear about Y is MGy = 2.30 Nm\n",
            "The Max Moment at the Gear is MG = 5.43 Nm\n"
          ]
        }
      ],
      "source": [
        "#calculate moments at Gear\n",
        "MGz= (Rby*db) \n",
        "print('The Moment at the Gear about Z is MGz = {:.2f} Nm'.format(MGz))\n",
        "MGy= (Rbz*db) \n",
        "print('The Moment at the Gear about Y is MGy = {:.2f} Nm'.format(MGy))\n",
        "\n",
        "#calculate max moment \n",
        "MG = ((MGz**2)+(MGy**2))**0.5\n",
        "print('The Max Moment at the Gear is MG = {:.2f} Nm'.format(MG))\n"
      ]
    },
    {
      "cell_type": "markdown",
      "metadata": {
        "id": "oWqSSbUQ2bV1"
      },
      "source": [
        "**Gear Shaft Stress Analysis**"
      ]
    },
    {
      "cell_type": "code",
      "execution_count": null,
      "metadata": {
        "colab": {
          "base_uri": "https://localhost:8080/"
        },
        "id": "A7HXLF-C3cal",
        "outputId": "d74d4b9a-05fa-4349-c557-269755baa080"
      },
      "outputs": [
        {
          "output_type": "stream",
          "name": "stdout",
          "text": [
            "D_d for the gear = 0.83\n",
            "r_d for the gear = 0.02\n",
            "K_t for the gear = 2.20\n",
            "K_ts for the gear = 3.00\n",
            "The minimum shaft diameter at the gear w/ respect to yield is 7.47569 mm\n",
            "The maximum von Mises stress in the shaft at the gear is 26.6 MPa\n",
            "The minimum factor of safety with respect to DET yield at the gear is 19.9\n",
            "The fatigue factor of safety with respect to goodman criteria at the gear is 26.0\n"
          ]
        }
      ],
      "source": [
        "#define stress concentration variables\n",
        "shoulder_fillet = .0005 # m, radius of shoulder fillet \n",
        "D_d_1 = d3/d2 # D/d for A-15-7\n",
        "r_d = shoulder_fillet/d2 # r/d for A-15-7\n",
        "print('D_d for the gear = {:.2f}'.format(D_d_1))\n",
        "print('r_d for the gear = {:.2f}'.format(r_d))\n",
        "#Max (geometrically) allowed fillet at this corner: 1/4 * pi * r**2\n",
        "\n",
        "#Torsional\n",
        "ktG = 2.2 # from keyseat (worse than diameter change)\n",
        "print('K_t for the gear = {:.2f}'.format(ktG))\n",
        "\n",
        "# Axial loading:\n",
        "ktsG = 3 # from keyseat (worse than diameter change)\n",
        "print('K_ts for the gear = {:.2f}'.format(ktsG))\n",
        "\n",
        "Sy = 530 # yield strength of SAE/AISI 1045 units in MPa (from shigley)\n",
        "Sut = 630 # tensile strength of SAE/AISI 1045 units in MPa\n",
        "SeTH = 0.5*Sut # Theoretical max fatigue strength in MPa\n",
        "n = 4 # min factor of safety decided by design engineers\n",
        "Tau_MG = 0 # defining variable for if statement\n",
        "a = 4.51 # coeff for surface condition factor (shigleys) with MPa\n",
        "b = -0.265 # exponent for surface condition factor (shigleys) with MPa\n",
        "\n",
        "# Surface condition factor calculation for fatigue\n",
        "ka = a*(Sut**b)\n",
        "\n",
        "# Minimum radius on shaft\n",
        "r_min = (n*4*MG/(Sy*(10**6)*np.pi))**(1/3)\n",
        "d_min = r_min*2 # converting to diameter\n",
        "#print('The minimum shaft diameter at the gear w/ respect to yield is {:.5f} meters'.format(d_min))\n",
        "print('The minimum shaft diameter at the gear w/ respect to yield is {:.5f} mm'.format(d_min*1000)) # Slightly easier to read, no change of vars needed\n",
        "\n",
        "# Defining worst bending stress location\n",
        "if d2 > d3:\n",
        "\tr_s=d3/2\n",
        "else:\n",
        "\tr_s=d2/2\n",
        "\n",
        "# Smaller area at gear based on radius\n",
        "A_s=np.pi*(r_s)**2\n",
        "\n",
        "# Defining 2nd moment of area and polar moment of area for stress calculations\n",
        "I = np.pi*((r_s)**4)/4 # 2nd moment of area in m^4\n",
        "J=2*I # polar moment of area in m^4\n",
        "\n",
        "# Maximum bending stress at the gear\n",
        "SigmaMax=MG*r_s/I\n",
        "\n",
        "#Defining torsional shear and transverse shear stresses for calculation at gear and bearing1 (A)\n",
        "Tau_torsionGear = (Tin*r_s/J)/(10**6) # torsional shear stress in MPa\n",
        "Tau_transGear=(4*(((Ray**(2))+(Raz**(2)))**0.5)/(3*A_s))/(10**6) # transverse shear stress in MPa\n",
        "# Determining which scenario is worse (if transverse can be neglected)\n",
        "if Tau_torsionGear > Tau_transGear: \n",
        "\tTau_MG = Tau_torsionGear # setting torsional shear stress max\n",
        "\t\n",
        "\t#Equivalent maximum alternating stress at the gear\n",
        "\tVonMises_stress=((((32*ktG*MG)/(np.pi*(r_s*2)**3))**2 + (3*((16*ktsG*Tin)/(np.pi*(r_s*2)**3))**2))**0.5)/(10**6) # MPa\n",
        "\n",
        "\t#printing Maximum von Mises\n",
        "\tprint('The maximum von Mises stress in the shaft at the gear is {:.1f} MPa'.format(VonMises_stress))\n",
        " \n",
        "  #Calculating FoS at gear w/ respect to DET yield and printing\n",
        "\tn_g = Sy/VonMises_stress\n",
        "\tprint('The minimum factor of safety with respect to DET yield at the gear is {:.1f}'.format(n_g))\n",
        "\n",
        "elif Tau_torsionGear > SigmaMax:\n",
        "\tTau_MG = Tau_transGear\n",
        "\tSigmaMax = 0 # removes bending stress if it is not to be used\n",
        "\tprint('Neglect Bending Stress')\n",
        "else:\n",
        "\tTau_maxG=Tau_torsionGear\n",
        "\tprint('Neglect Transverse Shear')\n",
        " \n",
        "# Calculate fatigue FoS\n",
        "#Defining variables\n",
        "q = 0.65 # notch sensitivity factor\n",
        "qs = 0.7 # torsional sensitivity factor\n",
        "kf_G = 1+(q*(ktG-1)) # Fatigue stress concentration # bending\n",
        "kfs_G = 1+(qs*(ktsG-1)) # fatigue shear stress concentration \n",
        "\n",
        "# Calculating size factor for fatigue\n",
        "kb_G = 1.24*((r_s*2*(10**3))**-0.107)\n",
        "\n",
        "# Determining fatigue strength\n",
        "Se_G = SeTH*kb_G*ka\n",
        "\n",
        "# A value for goodman FoS\n",
        "A_G = ((4*(kf_G*MG)**2)**0.5)/(10**6) # in MPa\n",
        "\n",
        "# B value for goodman FoS\n",
        "B_G  = ((3*(kfs_G*Tau_torsionGear)**2)**0.5)/(10**6) # in MPa\n",
        "\n",
        "# Fatigue FoS with respect to goodman criteria\n",
        "n_Gf = ((np.pi*(r_s*2)**3)/16)*(((A_G/Se_G)+(B_G/Sut))**(-1))\n",
        "print('The fatigue factor of safety with respect to goodman criteria at the gear is {:.1f}'.format(n_Gf))"
      ]
    },
    {
      "cell_type": "markdown",
      "metadata": {
        "id": "5Gg0Gx8jAlWJ"
      },
      "source": [
        "**Bearing 1 Shaft Stress Analysis**"
      ]
    },
    {
      "cell_type": "code",
      "execution_count": null,
      "metadata": {
        "colab": {
          "base_uri": "https://localhost:8080/"
        },
        "id": "-3weXQ5F_vcg",
        "outputId": "6fea3573-257c-4369-8caf-8d5b64783e46"
      },
      "outputs": [
        {
          "output_type": "stream",
          "name": "stdout",
          "text": [
            "D_d for the gear = 1.57\n",
            "r_d for the gear = 0.03\n",
            "F_b1 = 83.6 N\n",
            "The minimum fatigue factor of safety with respect to modified goodman criteria at bearing 1 is 19.4\n"
          ]
        }
      ],
      "source": [
        "#define stress concentration variables\n",
        "shoulder_fillet = .0005 # m, radius of shoulder fillet \n",
        "D_d_1 = d2/d1 # D/d for A-15-7\n",
        "r_d = shoulder_fillet/d1 # r/d for A-15-7\n",
        "print('D_d for the gear = {:.2f}'.format(D_d_1))\n",
        "print('r_d for the gear = {:.2f}'.format(r_d))\n",
        "\n",
        "# Stress analysis at Bearing 1 change in diameter\n",
        "kts1 = 2 #input using A-15-8 <- initially use these for Kf and Kfs\n",
        "\n",
        "#Defining variables\n",
        "qs = 0.7 # torsional sensitivity factor\n",
        "kfs1 = 1+(qs*(kts1-1)) # fatigue shear stress concentration \n",
        "\n",
        "# Stress analysis at Bearing 1 at smaller shaft diameter (no stress concentration due to transverse shear only)\n",
        " \n",
        "# Defining variables\n",
        "A_b1 = np.pi*(d1**2)/4 # area of shaft at bearing 1 in in m^2\n",
        "F_b1 = np.sqrt(Ray**2+Raz**2) # shear force at bearing 1 section in N\n",
        "print('F_b1 = {:.1f} N'.format(F_b1)) #N\n",
        "sigmaM_b1 = np.sqrt(3*((16*kfs1*(Tin)/(np.pi*d1**3))**2)) # midrange stress at Bearing 1 in MPa due to torsion\n",
        "J_b = np.pi*((d1/2)**4)/2\n",
        "\n",
        "# Tranverse shear stress\n",
        "shear_b1 = 4*F_b1/(3*A_b1) # transverse different location\n",
        " \n",
        "# Equivalent alternating stress calculation if using transverse\n",
        "sigmaA_b1 = ((3*(shear_b1**2))**0.5) # in Pa\n",
        " \n",
        "# Size factor for fatigue\n",
        "kb_b1 = 1.24*((d1*(10**3))**-0.107) # with mm as d2 units\n",
        " \n",
        "# Real fatigue strength calculation\n",
        "Se_b1 = SeTH*ka*kb_b1\n",
        " \n",
        "# Fatigue factor of safety with respect to modified goodman criteria\n",
        "nf_b1 = (1/((sigmaM_b1/(Sut*10**6))))\n",
        "#nf_b1 = ((np.pi*d1**3*Sut*10**6)/(sigmaM_b1))\n",
        "# Printing results\n",
        "print('The minimum fatigue factor of safety with respect to modified goodman criteria at bearing 1 is {:.1f}'.format(nf_b1))"
      ]
    },
    {
      "cell_type": "markdown",
      "metadata": {
        "id": "a-UQXN8OlG2c"
      },
      "source": [
        "**Bearing 2 Shaft Stress Analysis**"
      ]
    },
    {
      "cell_type": "code",
      "execution_count": null,
      "metadata": {
        "colab": {
          "base_uri": "https://localhost:8080/"
        },
        "id": "n86cK_9DlJtq",
        "outputId": "618b8ea7-0f2d-47fa-ca7c-e81d5ae4402d"
      },
      "outputs": [
        {
          "output_type": "stream",
          "name": "stdout",
          "text": [
            "D_d for the gear = 1.31\n",
            "r_d for the gear = 0.05\n",
            "F_b2 = 83.6 N\n",
            "The minimum fatigue factor of safety with respect to modified goodman criteria at bearing 2 is 343.8\n"
          ]
        }
      ],
      "source": [
        "# Stress analysis at Bearing 2 at smaller shaft diameter (no stress concentration due to transverse shear only)\n",
        "#define stress concentration variables\n",
        "shoulder_fillet = .001 # m, radius of shoulder fillet \n",
        "D_d_1 = d3/d4 # D/d for A-15-7\n",
        "r_d = shoulder_fillet/d4 # r/d for A-15-7\n",
        "print('D_d for the gear = {:.2f}'.format(D_d_1))\n",
        "print('r_d for the gear = {:.2f}'.format(r_d))\n",
        "\n",
        "# Defining variables\n",
        "A_b2 = np.pi*(d4**2)/4 # area of shaft at bearing 2 in in m^2\n",
        "F_b2 = np.sqrt(Rby**2+Rbz**2) # shear force at bearing 2 section in N\n",
        "sigmaM_b2 = 0 # midrange stress at Bearing 2 in MPa\n",
        "print('F_b2 = {:.1f} N'.format(F_b2)) #N\n",
        "\n",
        "# Transverse shear calculation (alternating stress but no other stresses present) <- different max location on cross-section than torsion and bending\n",
        "shear_b2 = 4*F_b2/(3*A_b2)\n",
        "\n",
        "# Equivalent alternating stress calculation\n",
        "sigmaA_b2 = ((3*(shear_b2**2))**0.5)/(10**6) # in MPa\n",
        "\n",
        "# Size factor for fatigue\n",
        "kb_b2 = 1.24*((d4*(10**3))**-0.107) # with mm as d4 units\n",
        "\n",
        "# Real fatigue strength calculation\n",
        "Se_b2 = SeTH*ka*kb_b2\n",
        "\n",
        "# Fatigue factor of safety with respect to modified goodman criteria\n",
        "nf_b2 = 1/((sigmaA_b2/Se_b2)+(sigmaM_b2/Sut))\n",
        "# Printing results\n",
        "print('The minimum fatigue factor of safety with respect to modified goodman criteria at bearing 2 is {:.1f}'.format(nf_b2))"
      ]
    },
    {
      "cell_type": "markdown",
      "metadata": {
        "id": "QE00usYKOYS1"
      },
      "source": [
        "**Coupling Keyseat Stress Concentration**"
      ]
    },
    {
      "cell_type": "code",
      "execution_count": null,
      "metadata": {
        "colab": {
          "base_uri": "https://localhost:8080/"
        },
        "id": "l3m-pLIYOeIT",
        "outputId": "254a0672-8e6c-4096-c85e-862f32907cc7"
      },
      "outputs": [
        {
          "output_type": "stream",
          "name": "stdout",
          "text": [
            "The equivalent midrange stress due to torsional shear stress at the coupling keyseat is 57.4 MPa\n",
            "Factor of Safety at keyseast with respect to goodman criteria is 11.0\n"
          ]
        }
      ],
      "source": [
        "# Defining variables\n",
        "kts_C = 3.0 \n",
        "Se_C=Se_b1*(10**6) # same section of shaft (Pa)\n",
        "\n",
        "# Equivalent midrange stress due to torsional shear stress\n",
        "sigmaM_C = np.sqrt(3*((16*kts_C*(Tin)/(np.pi*d1**3))**2))\n",
        "print('The equivalent midrange stress due to torsional shear stress at the coupling keyseat is {:.1f} MPa'.format(sigmaM_C/(10**6)))\n",
        "\n",
        "# Factor of safety at keyseat w/ respect to goodman criteria\n",
        "n_C = 1/(sigmaM_C/(Sut*(10**6)))\n",
        "print('Factor of Safety at keyseast with respect to goodman criteria is {:.1f}'.format(n_C))"
      ]
    },
    {
      "cell_type": "markdown",
      "metadata": {
        "id": "g6a9EJ04gGyX"
      },
      "source": [
        "## Bearing Analysis\n",
        "**Radial Force Fatigue Life**"
      ]
    },
    {
      "cell_type": "code",
      "execution_count": null,
      "metadata": {
        "colab": {
          "base_uri": "https://localhost:8080/"
        },
        "id": "tsM3SrpZa5xa",
        "outputId": "e13f054b-b3aa-4524-a3b4-57f5c64ced04"
      },
      "outputs": [
        {
          "output_type": "stream",
          "name": "stdout",
          "text": [
            "Required bearing life L = 1.80 * 10^9 rotations\n",
            "Minimum required catalog load rating C_10 = 1471.78 N for bearing 1\n",
            "\"Factor of Safety\" of bearing 1 with chosen bearing is 5.29\n",
            "Minimum required catalog load rating C_10 = 1471.78 N for bearing 2\n",
            "\"Factor of Safety\" of bearing 2 with chosen bearing is 5.29\n"
          ]
        }
      ],
      "source": [
        "# Code for bearing analysis\n",
        "# Governing equation: F*L**(1/a) = C_10 * (k*L_10)**(1/a)\n",
        "\n",
        "# Define constants\n",
        "a = 3 # Depends on if we choose roller (10/3) or ball (3) bearing\n",
        "w = 2000 # rotations/min\n",
        "k = .33 # 95% efficiency expected\n",
        "L_10 = 10**6 # 10% of bearing fail after 10^6 rotations\n",
        "C_10Choose1 = 7784 # C_10 of chosen bearing 1 N\n",
        "C_10Choose2 = 7784 # C_10 of chosen bearing 2 N\n",
        "# F: calculated above this\n",
        "\n",
        "# note that the 60 in the equation above converts minutes to hours\n",
        "t_hrs = 5 #machine is ran for 5 hrs/day\n",
        "t_days = 300 # machine is ran 300 days per year\n",
        "t_years = 10 # machine should run for 10 years\n",
        "\n",
        "# Radial loads at each bearing\n",
        "F_b1 = np.sqrt(Ray**2+Raz**2)\n",
        "# F_b2 = np.sqrt(Rby**2+Rbz**2) <- reiterated from prior code\n",
        "\n",
        "L = w * 60 * t_hrs * t_days * t_years # conversion from rot/min to total rotations in lifetime\n",
        "print('Required bearing life L = {:.2f} * 10^9 rotations'.format(L/(10**9)))\n",
        "\n",
        "C_10_1 = F_b1 * (L/(k*L_10)) ** (1/a)\n",
        "print('Minimum required catalog load rating C_10 = {:.2f} N for bearing 1'.format(C_10_1))\n",
        "# FoS of bearing requirements based on chosen bearing\n",
        "n_b1 = C_10Choose1/C_10_1\n",
        "print('\"Factor of Safety\" of bearing 1 with chosen bearing is {:.2f}'.format(n_b1))\n",
        "\n",
        "# Repeat for bearing #2\n",
        "C_10_2 = F_b2 * (L/(k*L_10)) ** (1/a)\n",
        "print('Minimum required catalog load rating C_10 = {:.2f} N for bearing 2'.format(C_10_2))\n",
        "# FoS of bearing requirements based on chosen bearing\n",
        "n_b2 = C_10Choose2/C_10_2\n",
        "print('\"Factor of Safety\" of bearing 2 with chosen bearing is {:.2f}'.format(n_b2))"
      ]
    }
  ],
  "metadata": {
    "colab": {
      "collapsed_sections": [],
      "name": "Project1_Code.ipynb",
      "provenance": [],
      "include_colab_link": true
    },
    "kernelspec": {
      "display_name": "Python 3",
      "name": "python3"
    },
    "language_info": {
      "name": "python"
    }
  },
  "nbformat": 4,
  "nbformat_minor": 0
}